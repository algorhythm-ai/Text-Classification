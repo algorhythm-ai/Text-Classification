{
  "nbformat": 4,
  "nbformat_minor": 0,
  "metadata": {
    "colab": {
      "name": "Text Classification CNN.ipynb",
      "provenance": [],
      "collapsed_sections": []
    },
    "kernelspec": {
      "name": "python3",
      "display_name": "Python 3"
    },
    "language_info": {
      "name": "python"
    }
  },
  "cells": [
    {
      "cell_type": "code",
      "metadata": {
        "id": "9tkRUG2-pu9K"
      },
      "source": [
        "import tensorflow as tf\n",
        "from tensorflow.keras import Model, models, layers\n",
        "import numpy as np\n",
        "import matplotlib.pyplot as plt\n",
        "import os\n",
        "import requests\n",
        "import tarfile\n",
        "import collections\n",
        "import string"
      ],
      "execution_count": null,
      "outputs": []
    },
    {
      "cell_type": "code",
      "metadata": {
        "id": "s6p83zbupyqG"
      },
      "source": [
        "url = \"http://storage.googleapis.com/download.tensorflow.org/data/stack_overflow_16k.tar.gz\"\n",
        "r = requests.get(url)\n",
        "with open(\"stack_overflow_16k.tar.gz\", \"wb\") as file:\n",
        "  file.write(r.content)\n",
        "tar = tarfile.open(\"stack_overflow_16k.tar.gz\")\n",
        "tar.extractall()"
      ],
      "execution_count": null,
      "outputs": []
    },
    {
      "cell_type": "code",
      "metadata": {
        "id": "cKBfEE_Yp1hM"
      },
      "source": [
        "def tokenize(data, max_words=1000):\n",
        "  words = []\n",
        "  for question in data:\n",
        "    for word in question.split():\n",
        "      words.append(word)\n",
        "  words = collections.Counter(words)\n",
        "  words = sorted(words.items(), key=lambda item: item[1], reverse=True)\n",
        "  tokens = {}\n",
        "  t = 1\n",
        "  for word, _ in words:\n",
        "    punctuation = all([True if char in string.punctuation else False for char in word])\n",
        "    if t > max_words:\n",
        "      break\n",
        "    if not punctuation:\n",
        "      tokens[word] = t\n",
        "      t += 1 \n",
        "  return tokens\n",
        "\n",
        "def text_to_tokens(tokens, text_data, sequence_len=325):\n",
        "  new_data = []\n",
        "  for question in text_data:\n",
        "    tokens_list = list(map(lambda word: tokens[word] if word in tokens else 0, question.split()))\n",
        "    if len(tokens_list) > sequence_len:\n",
        "      #If greater than sequence_len truncate\n",
        "      new_data.append(tokens_list[:sequence_len])\n",
        "    else:\n",
        "      #If less than sequence_len pad beginning with zeros\n",
        "      new_data.append([0 for _ in range(sequence_len-len(tokens_list))] + tokens_list)\n",
        "  return new_data\n",
        "\n",
        "def read_data(data_dir):\n",
        "  data = []\n",
        "  labels = []\n",
        "  tags = {'csharp' : 0, 'java' : 1, 'javascript' : 2, 'python' : 3}\n",
        "  for tag in tags:\n",
        "    folder = os.path.join(data_dir, tag)\n",
        "    for text_file in os.listdir(folder):\n",
        "      with open(os.path.join(folder, text_file), 'rb') as f:\n",
        "        question = f.read().decode('utf-8')\n",
        "        data.append(question)\n",
        "        labels.append(tags[tag])\n",
        "  return data, labels\n",
        "\n",
        "def get_dataset(data_dir):\n",
        "  data, labels = read_data(data_dir)\n",
        "  tokens = tokenize(read_data('train')[0] if data_dir == 'test' else data)\n",
        "  data = text_to_tokens(tokens, data)\n",
        "  return np.array(data), np.array(labels), len(tokens)\n",
        "\n",
        "x_train, y_train, vocab_size = get_dataset('train')\n",
        "x_test, y_test, _ = get_dataset('test')"
      ],
      "execution_count": null,
      "outputs": []
    },
    {
      "cell_type": "code",
      "metadata": {
        "id": "lAbqctEnp5Sr"
      },
      "source": [
        "class CNN(Model):\n",
        "  def __init__(self, vocab_size, embedding_dim):\n",
        "    super().__init__()\n",
        "    self.embedding = layers.Embedding(vocab_size, embedding_dim)\n",
        "    self.conv = models.Sequential([\n",
        "        layers.Conv1D(16, 3, padding='same', activation='relu'),\n",
        "        layers.MaxPool1D(),\n",
        "        layers.Conv1D(32, 3, padding='same', activation='relu'),\n",
        "        layers.MaxPool1D(),\n",
        "        layers.Flatten()\n",
        "    ])\n",
        "    self.dropout = layers.Dropout(0.5)\n",
        "    self.prediction = layers.Dense(4)\n",
        "\n",
        "  def call(self, inputs, training=None):\n",
        "    embeddings = self.embedding(inputs)\n",
        "    embeddings = tf.transpose(embeddings, [0,2,1])\n",
        "    conv_out = self.conv(embeddings)\n",
        "    if training:\n",
        "      conv_out = self.dropout(conv_out)\n",
        "    outputs = self.prediction(conv_out)\n",
        "    return outputs\n",
        "\n",
        "model = CNN(vocab_size+1, 16)\n",
        "\n",
        "model.compile(\n",
        "    optimizer=tf.keras.optimizers.Adam(learning_rate=0.001),\n",
        "    loss=tf.keras.losses.SparseCategoricalCrossentropy(from_logits=True),\n",
        "    metrics=['accuracy']\n",
        ")"
      ],
      "execution_count": null,
      "outputs": []
    },
    {
      "cell_type": "code",
      "metadata": {
        "colab": {
          "base_uri": "https://localhost:8080/"
        },
        "id": "uhmg_nQflhOI",
        "outputId": "a1b4934e-5089-4a87-a7c6-6a6e36596a0e"
      },
      "source": [
        "history = model.fit(\n",
        "    x=x_train,\n",
        "    y=y_train,\n",
        "    batch_size=64,\n",
        "    epochs=5,\n",
        "    validation_data=(x_test, y_test)\n",
        ")"
      ],
      "execution_count": null,
      "outputs": [
        {
          "output_type": "stream",
          "text": [
            "Epoch 1/5\n",
            "125/125 [==============================] - 3s 22ms/step - loss: 1.3858 - accuracy: 0.2626 - val_loss: 1.3817 - val_accuracy: 0.2749\n",
            "Epoch 2/5\n",
            "125/125 [==============================] - 3s 20ms/step - loss: 1.2699 - accuracy: 0.4074 - val_loss: 0.9835 - val_accuracy: 0.5864\n",
            "Epoch 3/5\n",
            "125/125 [==============================] - 2s 20ms/step - loss: 0.8593 - accuracy: 0.6311 - val_loss: 0.7396 - val_accuracy: 0.7038\n",
            "Epoch 4/5\n",
            "125/125 [==============================] - 3s 20ms/step - loss: 0.6414 - accuracy: 0.7471 - val_loss: 0.6871 - val_accuracy: 0.7132\n",
            "Epoch 5/5\n",
            "125/125 [==============================] - 3s 21ms/step - loss: 0.5451 - accuracy: 0.7850 - val_loss: 0.6544 - val_accuracy: 0.7343\n"
          ],
          "name": "stdout"
        }
      ]
    },
    {
      "cell_type": "code",
      "metadata": {
        "id": "NEy8IESLljVo",
        "colab": {
          "base_uri": "https://localhost:8080/",
          "height": 541
        },
        "outputId": "799dcbb7-1851-41b7-d0ac-c00bf0af1638"
      },
      "source": [
        "plt.figure()\n",
        "plt.plot(history.history[\"loss\"])\n",
        "plt.plot(history.history[\"val_loss\"])\n",
        "plt.ylabel(\"loss\")\n",
        "plt.xlabel(\"epoch\")\n",
        "plt.legend([\"train\", \"test\"], loc=\"upper right\")\n",
        "plt.show()\n",
        "\n",
        "plt.figure()\n",
        "plt.plot(history.history[\"accuracy\"])\n",
        "plt.plot(history.history[\"val_accuracy\"])\n",
        "plt.ylabel(\"accuracy\")\n",
        "plt.xlabel(\"epoch\")\n",
        "plt.legend([\"train\", \"test\"], loc=\"upper left\")\n",
        "plt.show()"
      ],
      "execution_count": null,
      "outputs": [
        {
          "output_type": "display_data",
          "data": {
            "image/png": "[encoded data removed]",
            "text/plain": [
              "<Figure size 432x288 with 1 Axes>"
            ]
          },
          "metadata": {
            "tags": [],
            "needs_background": "light"
          }
        },
        {
          "output_type": "display_data",
          "data": {
            "image/png": "[encoded data removed]",
            "text/plain": [
              "<Figure size 432x288 with 1 Axes>"
            ]
          },
          "metadata": {
            "tags": [],
            "needs_background": "light"
          }
        }
      ]
    }
  ]
}