{
  "nbformat": 4,
  "nbformat_minor": 0,
  "metadata": {
    "colab": {
      "name": "Text Classification RNN.ipynb",
      "provenance": [],
      "collapsed_sections": []
    },
    "kernelspec": {
      "name": "python3",
      "display_name": "Python 3"
    },
    "language_info": {
      "name": "python"
    }
  },
  "cells": [
    {
      "cell_type": "code",
      "metadata": {
        "id": "8H3vkuZx0MlO"
      },
      "source": [
        "import tensorflow as tf\n",
        "from tensorflow.keras import Model, layers\n",
        "import numpy as np\n",
        "import matplotlib.pyplot as plt\n",
        "import os\n",
        "import requests\n",
        "import tarfile\n",
        "import collections\n",
        "import string"
      ],
      "execution_count": null,
      "outputs": []
    },
    {
      "cell_type": "code",
      "metadata": {
        "id": "EE9n0E9AhFSO"
      },
      "source": [
        "url = \"http://storage.googleapis.com/download.tensorflow.org/data/stack_overflow_16k.tar.gz\"\n",
        "r = requests.get(url)\n",
        "with open(\"stack_overflow_16k.tar.gz\", \"wb\") as file:\n",
        "  file.write(r.content)\n",
        "tar = tarfile.open(\"stack_overflow_16k.tar.gz\")\n",
        "tar.extractall()"
      ],
      "execution_count": null,
      "outputs": []
    },
    {
      "cell_type": "code",
      "metadata": {
        "id": "WK00DmoChVpY"
      },
      "source": [
        "def tokenize(data, max_words=1000):\n",
        "  words = []\n",
        "  for question in data:\n",
        "    for word in question.split():\n",
        "      words.append(word)\n",
        "  words = collections.Counter(words)\n",
        "  words = sorted(words.items(), key=lambda item: item[1], reverse=True)\n",
        "  tokens = {}\n",
        "  t = 1\n",
        "  for word, _ in words:\n",
        "    punctuation = all([True if char in string.punctuation else False for char in word])\n",
        "    if t > max_words:\n",
        "      break\n",
        "    if not punctuation:\n",
        "      tokens[word] = t\n",
        "      t += 1 \n",
        "  return tokens\n",
        "\n",
        "def text_to_tokens(tokens, text_data, sequence_len=325):\n",
        "  new_data = []\n",
        "  for question in text_data:\n",
        "    tokens_list = list(map(lambda word: tokens[word] if word in tokens else 0, question.split()))\n",
        "    if len(tokens_list) > sequence_len:\n",
        "      #If greater than sequence_len truncate\n",
        "      new_data.append(tokens_list[:sequence_len])\n",
        "    else:\n",
        "      #If less than sequence_len pad beginning with zeros\n",
        "      new_data.append([0 for _ in range(sequence_len-len(tokens_list))] + tokens_list)\n",
        "  return new_data\n",
        "\n",
        "def read_data(data_dir):\n",
        "  data = []\n",
        "  labels = []\n",
        "  tags = {'csharp' : 0, 'java' : 1, 'javascript' : 2, 'python' : 3}\n",
        "  for tag in tags:\n",
        "    folder = os.path.join(data_dir, tag)\n",
        "    for text_file in os.listdir(folder):\n",
        "      with open(os.path.join(folder, text_file), 'rb') as f:\n",
        "        question = f.read().decode('utf-8')\n",
        "        data.append(question)\n",
        "        labels.append(tags[tag])\n",
        "  return data, labels\n",
        "\n",
        "def get_dataset(data_dir):\n",
        "  data, labels = read_data(data_dir)\n",
        "  tokens = tokenize(read_data('train')[0] if data_dir == 'test' else data)\n",
        "  data = text_to_tokens(tokens, data)\n",
        "  return np.array(data), np.array(labels), len(tokens)\n",
        "\n",
        "x_train, y_train, vocab_size = get_dataset('train')\n",
        "x_test, y_test, _ = get_dataset('test')"
      ],
      "execution_count": null,
      "outputs": []
    },
    {
      "cell_type": "code",
      "metadata": {
        "id": "6hSa_sQxLvWI"
      },
      "source": [
        "class LSTM(Model):\n",
        "  def __init__(self, vocab_size, embedding_dim, num_hidden):\n",
        "    super().__init__()\n",
        "    self.embedding = layers.Embedding(vocab_size, embedding_dim,\n",
        "                                      embeddings_regularizer=tf.keras.regularizers.l2(1e-4))\n",
        "    self.lstm = layers.LSTM(num_hidden,\n",
        "                            kernel_regularizer=tf.keras.regularizers.l2(1e-4))\n",
        "    self.prediction = layers.Dense(4)\n",
        "  \n",
        "  def call(self, inputs):\n",
        "    embeddings = self.embedding(inputs)\n",
        "    lstm_out = self.lstm(embeddings)\n",
        "    outputs = self.prediction(lstm_out)\n",
        "    return outputs\n",
        "\n",
        "model = LSTM(vocab_size+1, 10, 32)\n",
        "\n",
        "model.compile(\n",
        "    optimizer=tf.keras.optimizers.Adam(learning_rate=0.01),\n",
        "    loss=tf.keras.losses.SparseCategoricalCrossentropy(from_logits=True),\n",
        "    metrics=['accuracy']\n",
        ")"
      ],
      "execution_count": null,
      "outputs": []
    },
    {
      "cell_type": "code",
      "metadata": {
        "colab": {
          "base_uri": "https://localhost:8080/"
        },
        "id": "lot8lIUCvETX",
        "outputId": "0c7ee47e-23ba-4f8a-d9f5-8968b8490a5f"
      },
      "source": [
        "history = model.fit(\n",
        "    x=x_train,\n",
        "    y=y_train,\n",
        "    batch_size=64,\n",
        "    epochs=10,\n",
        "    validation_data=(x_test, y_test)\n",
        ")"
      ],
      "execution_count": null,
      "outputs": [
        {
          "output_type": "stream",
          "text": [
            "Epoch 1/10\n",
            "125/125 [==============================] - 23s 163ms/step - loss: 1.3471 - accuracy: 0.3352 - val_loss: 1.1887 - val_accuracy: 0.4326\n",
            "Epoch 2/10\n",
            "125/125 [==============================] - 19s 154ms/step - loss: 1.3231 - accuracy: 0.3644 - val_loss: 1.2148 - val_accuracy: 0.3938\n",
            "Epoch 3/10\n",
            "125/125 [==============================] - 20s 162ms/step - loss: 1.2245 - accuracy: 0.4121 - val_loss: 1.1321 - val_accuracy: 0.4699\n",
            "Epoch 4/10\n",
            "125/125 [==============================] - 20s 157ms/step - loss: 1.1279 - accuracy: 0.4927 - val_loss: 1.4323 - val_accuracy: 0.3627\n",
            "Epoch 5/10\n",
            "125/125 [==============================] - 21s 165ms/step - loss: 1.1561 - accuracy: 0.4431 - val_loss: 1.1639 - val_accuracy: 0.4481\n",
            "Epoch 6/10\n",
            "125/125 [==============================] - 20s 162ms/step - loss: 1.0837 - accuracy: 0.5098 - val_loss: 1.0511 - val_accuracy: 0.5491\n",
            "Epoch 7/10\n",
            "125/125 [==============================] - 21s 169ms/step - loss: 0.9069 - accuracy: 0.6419 - val_loss: 0.8348 - val_accuracy: 0.6954\n",
            "Epoch 8/10\n",
            "125/125 [==============================] - 21s 172ms/step - loss: 0.7543 - accuracy: 0.7191 - val_loss: 0.7494 - val_accuracy: 0.7200\n",
            "Epoch 9/10\n",
            "125/125 [==============================] - 22s 176ms/step - loss: 0.7025 - accuracy: 0.7444 - val_loss: 0.7423 - val_accuracy: 0.7275\n",
            "Epoch 10/10\n",
            "125/125 [==============================] - 22s 178ms/step - loss: 0.6458 - accuracy: 0.7685 - val_loss: 0.7153 - val_accuracy: 0.7301\n"
          ],
          "name": "stdout"
        }
      ]
    },
    {
      "cell_type": "code",
      "metadata": {
        "id": "Byks5Bxv3Qss",
        "colab": {
          "base_uri": "https://localhost:8080/",
          "height": 541
        },
        "outputId": "beff87a3-e268-497f-a583-a59c160759ae"
      },
      "source": [
        "plt.figure()\n",
        "plt.plot(history.history[\"loss\"])\n",
        "plt.plot(history.history[\"val_loss\"])\n",
        "plt.ylabel(\"loss\")\n",
        "plt.xlabel(\"epoch\")\n",
        "plt.legend([\"train\", \"test\"], loc=\"upper right\")\n",
        "plt.show()\n",
        "\n",
        "plt.figure()\n",
        "plt.plot(history.history[\"accuracy\"])\n",
        "plt.plot(history.history[\"val_accuracy\"])\n",
        "plt.ylabel(\"accuracy\")\n",
        "plt.xlabel(\"epoch\")\n",
        "plt.legend([\"train\", \"test\"], loc=\"upper left\")\n",
        "plt.show()"
      ],
      "execution_count": null,
      "outputs": [
        {
          "output_type": "display_data",
          "data": {
            "image/png": "[encoded data removed]",
            "text/plain": [
              "<Figure size 432x288 with 1 Axes>"
            ]
          },
          "metadata": {
            "tags": [],
            "needs_background": "light"
          }
        },
        {
          "output_type": "display_data",
          "data": {
            "image/png": "[encoded data removed]",
            "text/plain": [
              "<Figure size 432x288 with 1 Axes>"
            ]
          },
          "metadata": {
            "tags": [],
            "needs_background": "light"
          }
        }
      ]
    }
  ]
}